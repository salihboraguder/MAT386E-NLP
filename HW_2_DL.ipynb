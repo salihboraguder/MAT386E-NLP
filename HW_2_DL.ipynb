{
 "cells": [
  {
   "cell_type": "markdown",
   "id": "e57119ac-f813-4675-98dd-3c84440509b3",
   "metadata": {},
   "source": [
    "## Problem Definition"
   ]
  },
  {
   "cell_type": "markdown",
   "id": "4f350fc6-86d7-40f5-b21a-df33bd172a5e",
   "metadata": {},
   "source": [
    "#### What is Reddit?\n",
    "Reddit was founded by University of Virginia roommates Steve Huffman and Alexis Ohanian in 2005. Reddit is an American website where social news is gathered, and content is criticized. Members upload contents such as links, comments, images to the site. The posts are separated by user-created topics called as subreddits. These subreddits can be news, science, movies, music, books, video games and etc.\n",
    "<br>\n",
    "#### Motivation\n",
    "Reddit is a social networking service. Reddit provides a list of Trending Threads in real time, but it is often hard to understand what these trending topics are about. It is important and necessary to classify these topics into general categories with high accuracy for better information retrieval.\n",
    "<br>\n",
    "#### Statement of the Problem\n",
    "The enormous popularity of Reddit makes it a fascinating website for social analysis. With such many users writing comments and these comments can be associated with related thread in their respective subreddit. The primary motivation of this project is to gain better insight on what brings people together in online communities through sentiment analysis of subreddit comments through using deep learning algorithms.\n",
    "\n",
    "#### What we expect from you in this assignment ?\n",
    "We expect you to predict correct comments metas (topic of comment) from given data by modelling deep learning and nlp methodologies. \n",
    "Below, you can find the step by step guide of project.\n",
    "\n",
    "#### If you have any questions about the assignment, you can contact us at the following e-mail addresses:\n",
    "\n",
    "- cgdm.akyz@gmail.com\n",
    "- ozgeflzcn@gmail.com\n",
    "\n",
    "\n"
   ]
  },
  {
   "cell_type": "markdown",
   "id": "7c2f359d-a3fa-42ea-b50a-2294795d075c",
   "metadata": {},
   "source": [
    "<a name=\"1\"></a>\n",
    "## 1 - Import Libraries \n",
    "-Main Libraries for you to deploy your model (Feel free to use other libraries that you think helpful): \n",
    "\n",
    "\n",
    "<li><a href = 'https://pandas.pydata.org/'>\n",
    "Pandas\n",
    "</a></li> \n",
    "<li><a href = 'https://numpy.org/'>\n",
    "Numpy\n",
    "</a></li> \n",
    "<li><a href = 'https://scikit-learn.org/'>\n",
    "Sklearn \n",
    "</a></li> \n",
    "<li><a href = 'https://www.nltk.org/'>\n",
    "nltk\n",
    "</a></li> \n",
    "<li><a href = 'https://keras.io/'>\n",
    "keras\n",
    "\n"
   ]
  },
  {
   "cell_type": "markdown",
   "id": "7f8d9bc4-aeb8-4b88-bf87-5ba6b878ed06",
   "metadata": {},
   "source": [
    "<a name=\"2\"></a>\n",
    "## 2 - Importing the Data (65 points)\n",
    "\n",
    "\n",
    "<a name=\"2-1\"></a>\n",
    "### 2.1 - Loading in the Data\n",
    "\n",
    "Import the data set.  \n",
    "- You have to import from \n",
    "<a href ='https://github.com/cigdemakyz/ITU_Odev'>\n",
    "link\n",
    "\n",
    "\n"
   ]
  },
  {
   "cell_type": "code",
   "execution_count": 100,
   "metadata": {},
   "outputs": [],
   "source": [
    "import pandas as pd\n",
    "import numpy as np\n",
    "import matplotlib.pyplot as plt\n",
    "import seaborn as sns\n",
    "import nltk\n",
    "import re\n",
    "import warnings\n",
    "warnings.filterwarnings(\"ignore\")\n",
    "sns.set_style(\"darkgrid\")"
   ]
  },
  {
   "cell_type": "code",
   "execution_count": 101,
   "metadata": {},
   "outputs": [],
   "source": [
    "data = pd.read_csv(\"ITU_Odev_Data.csv\")"
   ]
  },
  {
   "cell_type": "code",
   "execution_count": 102,
   "metadata": {},
   "outputs": [
    {
     "name": "stdout",
     "output_type": "stream",
     "text": [
      "<class 'pandas.core.frame.DataFrame'>\n",
      "RangeIndex: 231460 entries, 0 to 231459\n",
      "Data columns (total 4 columns):\n",
      " #   Column      Non-Null Count   Dtype \n",
      "---  ------      --------------   ----- \n",
      " 0   Unnamed: 0  231460 non-null  int64 \n",
      " 1   text        231460 non-null  object\n",
      " 2   subreddit   231460 non-null  object\n",
      " 3   meta        231460 non-null  object\n",
      "dtypes: int64(1), object(3)\n",
      "memory usage: 7.1+ MB\n"
     ]
    }
   ],
   "source": [
    "data.info()"
   ]
  },
  {
   "cell_type": "markdown",
   "id": "f9db53bd-4f61-4d05-b133-9257573080c6",
   "metadata": {
    "execution": {
     "iopub.execute_input": "2023-10-19T12:09:22.368121Z",
     "iopub.status.busy": "2023-10-19T12:09:22.367693Z",
     "iopub.status.idle": "2023-10-19T12:09:22.372511Z",
     "shell.execute_reply": "2023-10-19T12:09:22.371739Z",
     "shell.execute_reply.started": "2023-10-19T12:09:22.368092Z"
    },
    "tags": []
   },
   "source": [
    "<a name=\"2-2\"></a>\n",
    "### 2.2 - Exploratory Data Analysis (20 points)\n",
    "\n",
    "Please investigate your data according to \n",
    "- Their distributions \n",
    "- Check null values\n",
    "- Drop unnecessary columns \n"
   ]
  },
  {
   "cell_type": "code",
   "execution_count": 103,
   "metadata": {},
   "outputs": [
    {
     "name": "stdout",
     "output_type": "stream",
     "text": [
      "Unique values of the unnamed column: 231460\n"
     ]
    }
   ],
   "source": [
    "print(f\"Unique values of the unnamed column: {data['Unnamed: 0'].nunique()}\")"
   ]
  },
  {
   "cell_type": "markdown",
   "metadata": {},
   "source": [
    "Looks like Unnamed: 0 column is unnecesarry. We can drop it"
   ]
  },
  {
   "cell_type": "code",
   "execution_count": 104,
   "metadata": {},
   "outputs": [],
   "source": [
    "data.drop(\"Unnamed: 0\",axis=1,inplace=True)"
   ]
  },
  {
   "cell_type": "code",
   "execution_count": 105,
   "metadata": {},
   "outputs": [
    {
     "data": {
      "text/html": [
       "<div>\n",
       "<style scoped>\n",
       "    .dataframe tbody tr th:only-of-type {\n",
       "        vertical-align: middle;\n",
       "    }\n",
       "\n",
       "    .dataframe tbody tr th {\n",
       "        vertical-align: top;\n",
       "    }\n",
       "\n",
       "    .dataframe thead th {\n",
       "        text-align: right;\n",
       "    }\n",
       "</style>\n",
       "<table border=\"1\" class=\"dataframe\">\n",
       "  <thead>\n",
       "    <tr style=\"text-align: right;\">\n",
       "      <th></th>\n",
       "      <th>text</th>\n",
       "      <th>subreddit</th>\n",
       "      <th>meta</th>\n",
       "    </tr>\n",
       "  </thead>\n",
       "  <tbody>\n",
       "    <tr>\n",
       "      <th>0</th>\n",
       "      <td>lem me sing you the song of my people.. . w ^ ...</td>\n",
       "      <td>tf2</td>\n",
       "      <td>gaming</td>\n",
       "    </tr>\n",
       "    <tr>\n",
       "      <th>1</th>\n",
       "      <td>my friend has been insisting on tests for year...</td>\n",
       "      <td>youshouldknow</td>\n",
       "      <td>learning</td>\n",
       "    </tr>\n",
       "    <tr>\n",
       "      <th>2</th>\n",
       "      <td>i thought this was a subreddit simulator post ...</td>\n",
       "      <td>circlejerk</td>\n",
       "      <td>humor</td>\n",
       "    </tr>\n",
       "    <tr>\n",
       "      <th>3</th>\n",
       "      <td>definitely not blitzcrank getting free samples...</td>\n",
       "      <td>leagueoflegends</td>\n",
       "      <td>gaming</td>\n",
       "    </tr>\n",
       "    <tr>\n",
       "      <th>4</th>\n",
       "      <td>because low prio dont punish hard enough . val...</td>\n",
       "      <td>dota2</td>\n",
       "      <td>gaming</td>\n",
       "    </tr>\n",
       "  </tbody>\n",
       "</table>\n",
       "</div>"
      ],
      "text/plain": [
       "                                                text        subreddit  \\\n",
       "0  lem me sing you the song of my people.. . w ^ ...              tf2   \n",
       "1  my friend has been insisting on tests for year...    youshouldknow   \n",
       "2  i thought this was a subreddit simulator post ...       circlejerk   \n",
       "3  definitely not blitzcrank getting free samples...  leagueoflegends   \n",
       "4  because low prio dont punish hard enough . val...            dota2   \n",
       "\n",
       "       meta  \n",
       "0    gaming  \n",
       "1  learning  \n",
       "2     humor  \n",
       "3    gaming  \n",
       "4    gaming  "
      ]
     },
     "execution_count": 105,
     "metadata": {},
     "output_type": "execute_result"
    }
   ],
   "source": [
    "data.head(5)"
   ]
  },
  {
   "cell_type": "code",
   "execution_count": 106,
   "metadata": {},
   "outputs": [],
   "source": [
    "TARGET_COL = \"meta\"\n",
    "FEATURES = list(data.drop(TARGET_COL,axis=1).columns)"
   ]
  },
  {
   "cell_type": "code",
   "execution_count": 107,
   "metadata": {},
   "outputs": [
    {
     "data": {
      "text/plain": [
       "['text', 'subreddit']"
      ]
     },
     "execution_count": 107,
     "metadata": {},
     "output_type": "execute_result"
    }
   ],
   "source": [
    "FEATURES"
   ]
  },
  {
   "cell_type": "code",
   "execution_count": 108,
   "metadata": {},
   "outputs": [
    {
     "name": "stdout",
     "output_type": "stream",
     "text": [
      "Null values of text : 0\n",
      "Null values of subreddit : 0\n"
     ]
    }
   ],
   "source": [
    "for feature in FEATURES:\n",
    "    print(f\"Null values of {feature} : {data[feature].isna().sum()}\")"
   ]
  },
  {
   "cell_type": "code",
   "execution_count": 109,
   "metadata": {},
   "outputs": [
    {
     "data": {
      "image/png": "[encoded data removed]",
      "text/plain": [
       "<Figure size 2250x750 with 1 Axes>"
      ]
     },
     "metadata": {},
     "output_type": "display_data"
    },
    {
     "data": {
      "image/png": "[encoded data removed]",
      "text/plain": [
       "<Figure size 2250x750 with 1 Axes>"
      ]
     },
     "metadata": {},
     "output_type": "display_data"
    }
   ],
   "source": [
    "#Subreddit column stats\n",
    "def get_countplot(data,col):\n",
    "\n",
    "    \n",
    "    plt.figure(figsize=(30,10),dpi=75)\n",
    "    g = sns.countplot(x=col,data=data,order = data[col].value_counts().index)\n",
    "    g.set_title(f\"{col} Value Counts\")\n",
    "    g.set_xticklabels(g.get_xticklabels(),rotation=45)\n",
    "    plt.show()\n",
    "\n",
    "    return None\n",
    "\n",
    "\n",
    "for col in [\"subreddit\",\"meta\"]:\n",
    "    get_countplot(data,col)"
   ]
  },
  {
   "cell_type": "code",
   "execution_count": 110,
   "metadata": {},
   "outputs": [],
   "source": [
    "#Average length of a text in certain subreddits.\n",
    "\n",
    "def get_avg_text_length(data,col,sreddit):\n",
    "\n",
    "\n",
    "    '''\n",
    "    data: data\n",
    "\n",
    "    sreddit: Binary value, if true; return the mean text length of all the unique subreddit texts\n",
    "                           if false; return the mean text length of all the unique meta texts\n",
    "    \n",
    "    '''\n",
    "\n",
    "    df = data.copy()\n",
    "\n",
    "    if sreddit:\n",
    "\n",
    "        mean_dict = {\"Subreddit\" : list(df[\"subreddit\"].unique()),\n",
    "                     f\"{col}_mean_len\": []}        #Creating a dictionary storing the specific subreddit names and their corresponding mean text lengths\n",
    "        \n",
    "\n",
    "\n",
    "\n",
    "        for val in mean_dict[\"Subreddit\"]:\n",
    "            subdata = df.query(f\"subreddit == '{val}'\") #Making a subdata only involving specific subreddit\n",
    "\n",
    "            mean_dict[f\"{col}_mean_len\"].append(subdata[col].str.len().mean()) #Taking the mean text lengths of all the rows\n",
    "       \n",
    "        return pd.DataFrame.from_dict(mean_dict).sort_values(f\"{col}_mean_len\",ascending=False) #Creating a dataframe from our dictionary\n",
    "\n",
    "    else:\n",
    "\n",
    "        mean_dict = {\"Meta\" :list(df[\"meta\"].unique()),\n",
    "                     f\"{col}_mean_len\": []}\n",
    "        \n",
    "        for val in mean_dict[\"Meta\"]:\n",
    "            subdata = df.query(f\"meta == '{val}'\")\n",
    "\n",
    "            mean_dict[f\"{col}_mean_len\"].append(subdata[col].str.len().mean())\n",
    "\n",
    "        \n",
    "\n",
    "        return pd.DataFrame.from_dict(mean_dict).sort_values(f\"{col}_mean_len\",ascending=False)\n",
    "\n",
    "\n",
    "\n",
    "\n",
    "    "
   ]
  },
  {
   "cell_type": "code",
   "execution_count": 111,
   "metadata": {},
   "outputs": [
    {
     "data": {
      "text/html": [
       "<div>\n",
       "<style scoped>\n",
       "    .dataframe tbody tr th:only-of-type {\n",
       "        vertical-align: middle;\n",
       "    }\n",
       "\n",
       "    .dataframe tbody tr th {\n",
       "        vertical-align: top;\n",
       "    }\n",
       "\n",
       "    .dataframe thead th {\n",
       "        text-align: right;\n",
       "    }\n",
       "</style>\n",
       "<table border=\"1\" class=\"dataframe\">\n",
       "  <thead>\n",
       "    <tr style=\"text-align: right;\">\n",
       "      <th></th>\n",
       "      <th>Meta</th>\n",
       "      <th>text_mean_len</th>\n",
       "    </tr>\n",
       "  </thead>\n",
       "  <tbody>\n",
       "    <tr>\n",
       "      <th>1</th>\n",
       "      <td>learning</td>\n",
       "      <td>323.756368</td>\n",
       "    </tr>\n",
       "    <tr>\n",
       "      <th>0</th>\n",
       "      <td>gaming</td>\n",
       "      <td>159.762498</td>\n",
       "    </tr>\n",
       "    <tr>\n",
       "      <th>2</th>\n",
       "      <td>humor</td>\n",
       "      <td>142.639715</td>\n",
       "    </tr>\n",
       "  </tbody>\n",
       "</table>\n",
       "</div>"
      ],
      "text/plain": [
       "       Meta  text_mean_len\n",
       "1  learning     323.756368\n",
       "0    gaming     159.762498\n",
       "2     humor     142.639715"
      ]
     },
     "execution_count": 111,
     "metadata": {},
     "output_type": "execute_result"
    }
   ],
   "source": [
    "get_avg_text_length(data,\"text\",sreddit=False)"
   ]
  },
  {
   "cell_type": "code",
   "execution_count": 112,
   "metadata": {},
   "outputs": [
    {
     "data": {
      "text/html": [
       "<div>\n",
       "<style scoped>\n",
       "    .dataframe tbody tr th:only-of-type {\n",
       "        vertical-align: middle;\n",
       "    }\n",
       "\n",
       "    .dataframe tbody tr th {\n",
       "        vertical-align: top;\n",
       "    }\n",
       "\n",
       "    .dataframe thead th {\n",
       "        text-align: right;\n",
       "    }\n",
       "</style>\n",
       "<table border=\"1\" class=\"dataframe\">\n",
       "  <thead>\n",
       "    <tr style=\"text-align: right;\">\n",
       "      <th></th>\n",
       "      <th>Subreddit</th>\n",
       "      <th>text_mean_len</th>\n",
       "    </tr>\n",
       "  </thead>\n",
       "  <tbody>\n",
       "    <tr>\n",
       "      <th>2</th>\n",
       "      <td>circlejerk</td>\n",
       "      <td>862.171201</td>\n",
       "    </tr>\n",
       "    <tr>\n",
       "      <th>20</th>\n",
       "      <td>askhistorians</td>\n",
       "      <td>817.078510</td>\n",
       "    </tr>\n",
       "    <tr>\n",
       "      <th>17</th>\n",
       "      <td>askscience</td>\n",
       "      <td>746.119351</td>\n",
       "    </tr>\n",
       "    <tr>\n",
       "      <th>18</th>\n",
       "      <td>explainlikeimfive</td>\n",
       "      <td>528.568635</td>\n",
       "    </tr>\n",
       "    <tr>\n",
       "      <th>12</th>\n",
       "      <td>space</td>\n",
       "      <td>314.517185</td>\n",
       "    </tr>\n",
       "    <tr>\n",
       "      <th>15</th>\n",
       "      <td>science</td>\n",
       "      <td>285.289161</td>\n",
       "    </tr>\n",
       "    <tr>\n",
       "      <th>1</th>\n",
       "      <td>youshouldknow</td>\n",
       "      <td>253.662841</td>\n",
       "    </tr>\n",
       "    <tr>\n",
       "      <th>16</th>\n",
       "      <td>skyrim</td>\n",
       "      <td>251.551383</td>\n",
       "    </tr>\n",
       "    <tr>\n",
       "      <th>9</th>\n",
       "      <td>starcraft</td>\n",
       "      <td>194.495317</td>\n",
       "    </tr>\n",
       "    <tr>\n",
       "      <th>0</th>\n",
       "      <td>tf2</td>\n",
       "      <td>173.554907</td>\n",
       "    </tr>\n",
       "    <tr>\n",
       "      <th>3</th>\n",
       "      <td>leagueoflegends</td>\n",
       "      <td>171.113254</td>\n",
       "    </tr>\n",
       "    <tr>\n",
       "      <th>10</th>\n",
       "      <td>minecraft</td>\n",
       "      <td>169.694059</td>\n",
       "    </tr>\n",
       "    <tr>\n",
       "      <th>11</th>\n",
       "      <td>todayilearned</td>\n",
       "      <td>164.046713</td>\n",
       "    </tr>\n",
       "    <tr>\n",
       "      <th>13</th>\n",
       "      <td>adviceanimals</td>\n",
       "      <td>155.431926</td>\n",
       "    </tr>\n",
       "    <tr>\n",
       "      <th>8</th>\n",
       "      <td>pokemon</td>\n",
       "      <td>152.300433</td>\n",
       "    </tr>\n",
       "    <tr>\n",
       "      <th>19</th>\n",
       "      <td>facepalm</td>\n",
       "      <td>143.115733</td>\n",
       "    </tr>\n",
       "    <tr>\n",
       "      <th>4</th>\n",
       "      <td>dota2</td>\n",
       "      <td>128.856970</td>\n",
       "    </tr>\n",
       "    <tr>\n",
       "      <th>5</th>\n",
       "      <td>gaming</td>\n",
       "      <td>116.540154</td>\n",
       "    </tr>\n",
       "    <tr>\n",
       "      <th>6</th>\n",
       "      <td>jokes</td>\n",
       "      <td>105.792965</td>\n",
       "    </tr>\n",
       "    <tr>\n",
       "      <th>7</th>\n",
       "      <td>funny</td>\n",
       "      <td>85.599164</td>\n",
       "    </tr>\n",
       "    <tr>\n",
       "      <th>14</th>\n",
       "      <td>imgoingtohellforthis</td>\n",
       "      <td>62.531936</td>\n",
       "    </tr>\n",
       "  </tbody>\n",
       "</table>\n",
       "</div>"
      ],
      "text/plain": [
       "               Subreddit  text_mean_len\n",
       "2             circlejerk     862.171201\n",
       "20         askhistorians     817.078510\n",
       "17            askscience     746.119351\n",
       "18     explainlikeimfive     528.568635\n",
       "12                 space     314.517185\n",
       "15               science     285.289161\n",
       "1          youshouldknow     253.662841\n",
       "16                skyrim     251.551383\n",
       "9              starcraft     194.495317\n",
       "0                    tf2     173.554907\n",
       "3        leagueoflegends     171.113254\n",
       "10             minecraft     169.694059\n",
       "11         todayilearned     164.046713\n",
       "13         adviceanimals     155.431926\n",
       "8                pokemon     152.300433\n",
       "19              facepalm     143.115733\n",
       "4                  dota2     128.856970\n",
       "5                 gaming     116.540154\n",
       "6                  jokes     105.792965\n",
       "7                  funny      85.599164\n",
       "14  imgoingtohellforthis      62.531936"
      ]
     },
     "execution_count": 112,
     "metadata": {},
     "output_type": "execute_result"
    }
   ],
   "source": [
    "get_avg_text_length(data,\"text\",sreddit=True)"
   ]
  },
  {
   "cell_type": "markdown",
   "id": "9b3b53ec-c643-44f2-9e1f-89f4ecb1899e",
   "metadata": {
    "execution": {
     "iopub.execute_input": "2023-10-19T12:22:37.885365Z",
     "iopub.status.busy": "2023-10-19T12:22:37.884973Z",
     "iopub.status.idle": "2023-10-19T12:22:37.889128Z",
     "shell.execute_reply": "2023-10-19T12:22:37.888493Z",
     "shell.execute_reply.started": "2023-10-19T12:22:37.885342Z"
    },
    "tags": []
   },
   "source": [
    "<a name=\"2-3\"></a>\n",
    "### 2.3 - Data Preparation (25 points)\n",
    "\n",
    "- Clean the comments\n",
    "- Remove/unremove stopwords based on your assumption.\n",
    "- Tokenize the comments\n",
    "- Lemmatize the comments\n",
    "- Vectorization\n",
    "- Word count analysis and outlier detection\n"
   ]
  },
  {
   "cell_type": "markdown",
   "metadata": {},
   "source": [
    "Basic text cleaning, removing all the random characters such as links or random punctuations."
   ]
  },
  {
   "cell_type": "code",
   "execution_count": 113,
   "metadata": {},
   "outputs": [],
   "source": [
    "data['cleaned_text'] = data['text'].apply(lambda x: re.sub(r'\\b\\w*\\.com\\w*\\b', '', x)) #Removing any links\n",
    "data['cleaned_text'] = data['text'].apply(lambda x: re.sub(r'\\b\\w*\\.org\\w*\\b', '', x))\n",
    "\n",
    "\n",
    "data['cleaned_text'] = data[\"cleaned_text\"].apply(lambda x:re.split(r'\\b\\w+\\.com\\b',str(x))[0])\n",
    "\n",
    "def clean_text(row):\n",
    "\n",
    "    return re.sub(r\"(@\\[A-Za-z0-9]+)|([^0-9A-Za-z \\t])|(\\w+:\\/\\/\\S+)|^rt|http.+?\", \"\", row)\n",
    "\n",
    "\n",
    "data[\"cleaned_text\"] = data[\"cleaned_text\"].str.strip()\n",
    "data[\"cleaned_text\"] = data[\"cleaned_text\"].str.lower()\n",
    "\n",
    "\n",
    "data[\"cleaned_text\"] = data[\"cleaned_text\"].apply(clean_text)"
   ]
  },
  {
   "cell_type": "markdown",
   "metadata": {},
   "source": [
    "Removing all the stopwords using NLTK"
   ]
  },
  {
   "cell_type": "code",
   "execution_count": 114,
   "metadata": {},
   "outputs": [],
   "source": [
    "from nltk.corpus import stopwords"
   ]
  },
  {
   "cell_type": "code",
   "execution_count": 115,
   "metadata": {},
   "outputs": [
    {
     "name": "stderr",
     "output_type": "stream",
     "text": [
      "[nltk_data] Downloading package stopwords to\n",
      "[nltk_data]     /Users/boraguder/nltk_data...\n",
      "[nltk_data]   Package stopwords is already up-to-date!\n"
     ]
    }
   ],
   "source": [
    "nltk.download('stopwords')\n",
    "stop = stopwords.words('english')\n"
   ]
  },
  {
   "cell_type": "code",
   "execution_count": 116,
   "metadata": {},
   "outputs": [],
   "source": [
    "data['text_without_stopwords'] = data['cleaned_text'].apply(lambda x: ' '.join([word for word in x.split() if word not in (stop)]))"
   ]
  },
  {
   "cell_type": "markdown",
   "metadata": {},
   "source": [
    "We can see that it greatly reduced the average length of the texts"
   ]
  },
  {
   "cell_type": "code",
   "execution_count": 117,
   "metadata": {},
   "outputs": [
    {
     "data": {
      "text/html": [
       "<div>\n",
       "<style scoped>\n",
       "    .dataframe tbody tr th:only-of-type {\n",
       "        vertical-align: middle;\n",
       "    }\n",
       "\n",
       "    .dataframe tbody tr th {\n",
       "        vertical-align: top;\n",
       "    }\n",
       "\n",
       "    .dataframe thead th {\n",
       "        text-align: right;\n",
       "    }\n",
       "</style>\n",
       "<table border=\"1\" class=\"dataframe\">\n",
       "  <thead>\n",
       "    <tr style=\"text-align: right;\">\n",
       "      <th></th>\n",
       "      <th>Meta</th>\n",
       "      <th>text_without_stopwords_mean_len</th>\n",
       "    </tr>\n",
       "  </thead>\n",
       "  <tbody>\n",
       "    <tr>\n",
       "      <th>1</th>\n",
       "      <td>learning</td>\n",
       "      <td>176.181048</td>\n",
       "    </tr>\n",
       "    <tr>\n",
       "      <th>0</th>\n",
       "      <td>gaming</td>\n",
       "      <td>89.770555</td>\n",
       "    </tr>\n",
       "    <tr>\n",
       "      <th>2</th>\n",
       "      <td>humor</td>\n",
       "      <td>83.183726</td>\n",
       "    </tr>\n",
       "  </tbody>\n",
       "</table>\n",
       "</div>"
      ],
      "text/plain": [
       "       Meta  text_without_stopwords_mean_len\n",
       "1  learning                       176.181048\n",
       "0    gaming                        89.770555\n",
       "2     humor                        83.183726"
      ]
     },
     "execution_count": 117,
     "metadata": {},
     "output_type": "execute_result"
    }
   ],
   "source": [
    "get_avg_text_length(data,\"text_without_stopwords\",sreddit=False)"
   ]
  },
  {
   "cell_type": "code",
   "execution_count": 118,
   "metadata": {},
   "outputs": [],
   "source": [
    "def get_corpus(text):\n",
    "    words = []\n",
    "    for i in text:\n",
    "        for j in i.split():\n",
    "            words.append(j.strip())\n",
    "    return words\n",
    "corpus = get_corpus(data.text_without_stopwords)"
   ]
  },
  {
   "cell_type": "code",
   "execution_count": 120,
   "metadata": {},
   "outputs": [],
   "source": [
    "from sklearn.feature_extraction.text import CountVectorizer\n",
    "def get_top_text_ngrams(corpus, n, g):\n",
    "    vec = CountVectorizer(ngram_range=(g, g)).fit(corpus)\n",
    "    bag_of_words = vec.transform(corpus)\n",
    "    sum_words = bag_of_words.sum(axis=0) \n",
    "    words_freq = [(word, sum_words[0, idx]) for word, idx in vec.vocabulary_.items()]\n",
    "    words_freq =sorted(words_freq, key = lambda x: x[1], reverse=True)\n",
    "    return words_freq[:n]\n",
    "\n",
    "\n",
    "def plot_top_n(data,col,n,g):\n",
    "\n",
    "\n",
    "    plt.figure(figsize = (20,10),dpi=75)\n",
    "    most_common = get_top_text_ngrams(data[col],n,g)\n",
    "    most_common = dict(most_common)\n",
    "    sns.barplot(x=list(most_common.values()),y=list(most_common.keys()))\n",
    "    plt.show()\n",
    "\n",
    "\n"
   ]
  },
  {
   "cell_type": "code",
   "execution_count": 121,
   "metadata": {},
   "outputs": [
    {
     "data": {
      "image/png": "[encoded data removed]",
      "text/plain": [
       "<Figure size 1500x750 with 1 Axes>"
      ]
     },
     "metadata": {},
     "output_type": "display_data"
    }
   ],
   "source": [
    "plot_top_n(data,\"text_without_stopwords\",10,1)"
   ]
  },
  {
   "cell_type": "code",
   "execution_count": 122,
   "metadata": {},
   "outputs": [
    {
     "data": {
      "image/png": "[encoded data removed]",
      "text/plain": [
       "<Figure size 1500x750 with 1 Axes>"
      ]
     },
     "metadata": {},
     "output_type": "display_data"
    }
   ],
   "source": [
    "plot_top_n(data,\"text_without_stopwords\",10,2)"
   ]
  },
  {
   "cell_type": "code",
   "execution_count": 124,
   "metadata": {},
   "outputs": [
    {
     "data": {
      "image/png": "[encoded data removed]",
      "text/plain": [
       "<Figure size 1500x750 with 1 Axes>"
      ]
     },
     "metadata": {},
     "output_type": "display_data"
    }
   ],
   "source": [
    "plot_top_n(data,\"text_without_stopwords\",10,3)"
   ]
  },
  {
   "cell_type": "markdown",
   "metadata": {},
   "source": [
    "Looks like the dataset is infested with some troll sentences."
   ]
  },
  {
   "cell_type": "code",
   "execution_count": 125,
   "metadata": {},
   "outputs": [],
   "source": [
    "i = 0\n",
    "j = 0\n",
    "def row_idx_with_certain_text(data,col,text):\n",
    "    '''\n",
    "    data:DataFrame\n",
    "    col:Column Name\n",
    "    text:Certain text where if a row has it, return its index\n",
    "    \n",
    "    '''\n",
    "    df = data.copy()\n",
    "    \n",
    "    idx_list = []\n",
    "    for idx,row in zip(df[col].index,df[col]):\n",
    "        if text in row:\n",
    "            idx_list.append(idx)\n",
    "\n",
    "    return idx_list\n",
    "        "
   ]
  },
  {
   "cell_type": "code",
   "execution_count": 126,
   "metadata": {},
   "outputs": [],
   "source": [
    "bernie_sanders_bernie_idx = row_idx_with_certain_text(data,\"text_without_stopwords\",\"bernie sanders bernie\") \n",
    "ber_nie_idx = row_idx_with_certain_text(data,\"text_without_stopwords\",\"ber nie\")\n",
    "pablo_idx = row_idx_with_certain_text(data,\"text_without_stopwords\",\"pablo pablo\")\n",
    "kanye_idx = row_idx_with_certain_text(data,\"text_without_stopwords\",\"kanye west mentally\")\n",
    "kill_idx = row_idx_with_certain_text(data,\"text_without_stopwords\",\"kill kill kill\")\n",
    "all_idx = list(set(bernie_sanders_bernie_idx + ber_nie_idx + pablo_idx + kanye_idx + kill_idx))"
   ]
  },
  {
   "cell_type": "code",
   "execution_count": 127,
   "metadata": {},
   "outputs": [
    {
     "data": {
      "text/html": [
       "<div>\n",
       "<style scoped>\n",
       "    .dataframe tbody tr th:only-of-type {\n",
       "        vertical-align: middle;\n",
       "    }\n",
       "\n",
       "    .dataframe tbody tr th {\n",
       "        vertical-align: top;\n",
       "    }\n",
       "\n",
       "    .dataframe thead th {\n",
       "        text-align: right;\n",
       "    }\n",
       "</style>\n",
       "<table border=\"1\" class=\"dataframe\">\n",
       "  <thead>\n",
       "    <tr style=\"text-align: right;\">\n",
       "      <th></th>\n",
       "      <th>text</th>\n",
       "      <th>subreddit</th>\n",
       "      <th>meta</th>\n",
       "      <th>cleaned_text</th>\n",
       "      <th>text_without_stopwords</th>\n",
       "    </tr>\n",
       "  </thead>\n",
       "  <tbody>\n",
       "    <tr>\n",
       "      <th>10491</th>\n",
       "      <td>kanye west is mentally ill kanye west is menta...</td>\n",
       "      <td>circlejerk</td>\n",
       "      <td>humor</td>\n",
       "      <td>kanye west is mentally ill kanye west is menta...</td>\n",
       "      <td>kanye west mentally ill kanye west mentally il...</td>\n",
       "    </tr>\n",
       "    <tr>\n",
       "      <th>31767</th>\n",
       "      <td>kanye west is mentally ill kanye west is menta...</td>\n",
       "      <td>circlejerk</td>\n",
       "      <td>humor</td>\n",
       "      <td>kanye west is mentally ill kanye west is menta...</td>\n",
       "      <td>kanye west mentally ill kanye west mentally il...</td>\n",
       "    </tr>\n",
       "    <tr>\n",
       "      <th>50601</th>\n",
       "      <td>kanye west is mentally ill kanye west is menta...</td>\n",
       "      <td>circlejerk</td>\n",
       "      <td>humor</td>\n",
       "      <td>kanye west is mentally ill kanye west is menta...</td>\n",
       "      <td>kanye west mentally ill kanye west mentally il...</td>\n",
       "    </tr>\n",
       "    <tr>\n",
       "      <th>68842</th>\n",
       "      <td>kanye west is mentally ill kanye west is menta...</td>\n",
       "      <td>circlejerk</td>\n",
       "      <td>humor</td>\n",
       "      <td>kanye west is mentally ill kanye west is menta...</td>\n",
       "      <td>kanye west mentally ill kanye west mentally il...</td>\n",
       "    </tr>\n",
       "    <tr>\n",
       "      <th>138047</th>\n",
       "      <td>kanye west is mentally ill kanye west is menta...</td>\n",
       "      <td>circlejerk</td>\n",
       "      <td>humor</td>\n",
       "      <td>kanye west is mentally ill kanye west is menta...</td>\n",
       "      <td>kanye west mentally ill kanye west mentally il...</td>\n",
       "    </tr>\n",
       "    <tr>\n",
       "      <th>168089</th>\n",
       "      <td>kanye west is mentally ill kanye west is menta...</td>\n",
       "      <td>circlejerk</td>\n",
       "      <td>humor</td>\n",
       "      <td>kanye west is mentally ill kanye west is menta...</td>\n",
       "      <td>kanye west mentally ill kanye west mentally il...</td>\n",
       "    </tr>\n",
       "    <tr>\n",
       "      <th>214821</th>\n",
       "      <td>kanye west is mentally ill kanye west is menta...</td>\n",
       "      <td>circlejerk</td>\n",
       "      <td>humor</td>\n",
       "      <td>kanye west is mentally ill kanye west is menta...</td>\n",
       "      <td>kanye west mentally ill kanye west mentally il...</td>\n",
       "    </tr>\n",
       "  </tbody>\n",
       "</table>\n",
       "</div>"
      ],
      "text/plain": [
       "                                                     text   subreddit   meta  \\\n",
       "10491   kanye west is mentally ill kanye west is menta...  circlejerk  humor   \n",
       "31767   kanye west is mentally ill kanye west is menta...  circlejerk  humor   \n",
       "50601   kanye west is mentally ill kanye west is menta...  circlejerk  humor   \n",
       "68842   kanye west is mentally ill kanye west is menta...  circlejerk  humor   \n",
       "138047  kanye west is mentally ill kanye west is menta...  circlejerk  humor   \n",
       "168089  kanye west is mentally ill kanye west is menta...  circlejerk  humor   \n",
       "214821  kanye west is mentally ill kanye west is menta...  circlejerk  humor   \n",
       "\n",
       "                                             cleaned_text  \\\n",
       "10491   kanye west is mentally ill kanye west is menta...   \n",
       "31767   kanye west is mentally ill kanye west is menta...   \n",
       "50601   kanye west is mentally ill kanye west is menta...   \n",
       "68842   kanye west is mentally ill kanye west is menta...   \n",
       "138047  kanye west is mentally ill kanye west is menta...   \n",
       "168089  kanye west is mentally ill kanye west is menta...   \n",
       "214821  kanye west is mentally ill kanye west is menta...   \n",
       "\n",
       "                                   text_without_stopwords  \n",
       "10491   kanye west mentally ill kanye west mentally il...  \n",
       "31767   kanye west mentally ill kanye west mentally il...  \n",
       "50601   kanye west mentally ill kanye west mentally il...  \n",
       "68842   kanye west mentally ill kanye west mentally il...  \n",
       "138047  kanye west mentally ill kanye west mentally il...  \n",
       "168089  kanye west mentally ill kanye west mentally il...  \n",
       "214821  kanye west mentally ill kanye west mentally il...  "
      ]
     },
     "execution_count": 127,
     "metadata": {},
     "output_type": "execute_result"
    }
   ],
   "source": [
    "data.iloc[kanye_idx]"
   ]
  },
  {
   "cell_type": "code",
   "execution_count": 128,
   "metadata": {},
   "outputs": [
    {
     "data": {
      "text/html": [
       "<div>\n",
       "<style scoped>\n",
       "    .dataframe tbody tr th:only-of-type {\n",
       "        vertical-align: middle;\n",
       "    }\n",
       "\n",
       "    .dataframe tbody tr th {\n",
       "        vertical-align: top;\n",
       "    }\n",
       "\n",
       "    .dataframe thead th {\n",
       "        text-align: right;\n",
       "    }\n",
       "</style>\n",
       "<table border=\"1\" class=\"dataframe\">\n",
       "  <thead>\n",
       "    <tr style=\"text-align: right;\">\n",
       "      <th></th>\n",
       "      <th>text</th>\n",
       "      <th>subreddit</th>\n",
       "      <th>meta</th>\n",
       "      <th>cleaned_text</th>\n",
       "      <th>text_without_stopwords</th>\n",
       "    </tr>\n",
       "  </thead>\n",
       "  <tbody>\n",
       "    <tr>\n",
       "      <th>484</th>\n",
       "      <td>bernie sanders bernie sanders bernie sanders b...</td>\n",
       "      <td>circlejerk</td>\n",
       "      <td>humor</td>\n",
       "      <td>bernie sanders bernie sanders bernie sanders b...</td>\n",
       "      <td>bernie sanders bernie sanders bernie sanders b...</td>\n",
       "    </tr>\n",
       "    <tr>\n",
       "      <th>7585</th>\n",
       "      <td>bernie sanders bernie sanders bernie sanders b...</td>\n",
       "      <td>circlejerk</td>\n",
       "      <td>humor</td>\n",
       "      <td>bernie sanders bernie sanders bernie sanders b...</td>\n",
       "      <td>bernie sanders bernie sanders bernie sanders b...</td>\n",
       "    </tr>\n",
       "    <tr>\n",
       "      <th>24260</th>\n",
       "      <td>bernie sanders bernie sanders bernie sanders b...</td>\n",
       "      <td>circlejerk</td>\n",
       "      <td>humor</td>\n",
       "      <td>bernie sanders bernie sanders bernie sanders b...</td>\n",
       "      <td>bernie sanders bernie sanders bernie sanders b...</td>\n",
       "    </tr>\n",
       "    <tr>\n",
       "      <th>27116</th>\n",
       "      <td>bernie sanders bernie sanders bernie sanders b...</td>\n",
       "      <td>circlejerk</td>\n",
       "      <td>humor</td>\n",
       "      <td>bernie sanders bernie sanders bernie sanders b...</td>\n",
       "      <td>bernie sanders bernie sanders bernie sanders b...</td>\n",
       "    </tr>\n",
       "    <tr>\n",
       "      <th>40217</th>\n",
       "      <td>sernie banders bernie sanders bernie sanders b...</td>\n",
       "      <td>circlejerk</td>\n",
       "      <td>humor</td>\n",
       "      <td>sernie banders bernie sanders bernie sanders b...</td>\n",
       "      <td>sernie banders bernie sanders bernie sanders b...</td>\n",
       "    </tr>\n",
       "  </tbody>\n",
       "</table>\n",
       "</div>"
      ],
      "text/plain": [
       "                                                    text   subreddit   meta  \\\n",
       "484    bernie sanders bernie sanders bernie sanders b...  circlejerk  humor   \n",
       "7585   bernie sanders bernie sanders bernie sanders b...  circlejerk  humor   \n",
       "24260  bernie sanders bernie sanders bernie sanders b...  circlejerk  humor   \n",
       "27116  bernie sanders bernie sanders bernie sanders b...  circlejerk  humor   \n",
       "40217  sernie banders bernie sanders bernie sanders b...  circlejerk  humor   \n",
       "\n",
       "                                            cleaned_text  \\\n",
       "484    bernie sanders bernie sanders bernie sanders b...   \n",
       "7585   bernie sanders bernie sanders bernie sanders b...   \n",
       "24260  bernie sanders bernie sanders bernie sanders b...   \n",
       "27116  bernie sanders bernie sanders bernie sanders b...   \n",
       "40217  sernie banders bernie sanders bernie sanders b...   \n",
       "\n",
       "                                  text_without_stopwords  \n",
       "484    bernie sanders bernie sanders bernie sanders b...  \n",
       "7585   bernie sanders bernie sanders bernie sanders b...  \n",
       "24260  bernie sanders bernie sanders bernie sanders b...  \n",
       "27116  bernie sanders bernie sanders bernie sanders b...  \n",
       "40217  sernie banders bernie sanders bernie sanders b...  "
      ]
     },
     "execution_count": 128,
     "metadata": {},
     "output_type": "execute_result"
    }
   ],
   "source": [
    "data.iloc[bernie_sanders_bernie_idx[:5]]"
   ]
  },
  {
   "cell_type": "code",
   "execution_count": 129,
   "metadata": {},
   "outputs": [
    {
     "data": {
      "text/html": [
       "<div>\n",
       "<style scoped>\n",
       "    .dataframe tbody tr th:only-of-type {\n",
       "        vertical-align: middle;\n",
       "    }\n",
       "\n",
       "    .dataframe tbody tr th {\n",
       "        vertical-align: top;\n",
       "    }\n",
       "\n",
       "    .dataframe thead th {\n",
       "        text-align: right;\n",
       "    }\n",
       "</style>\n",
       "<table border=\"1\" class=\"dataframe\">\n",
       "  <thead>\n",
       "    <tr style=\"text-align: right;\">\n",
       "      <th></th>\n",
       "      <th>text</th>\n",
       "      <th>subreddit</th>\n",
       "      <th>meta</th>\n",
       "      <th>cleaned_text</th>\n",
       "      <th>text_without_stopwords</th>\n",
       "    </tr>\n",
       "  </thead>\n",
       "  <tbody>\n",
       "    <tr>\n",
       "      <th>11266</th>\n",
       "      <td>ber nie ber nie ber nie ber nie ber nie ber ni...</td>\n",
       "      <td>circlejerk</td>\n",
       "      <td>humor</td>\n",
       "      <td>ber nie ber nie ber nie ber nie ber nie ber ni...</td>\n",
       "      <td>ber nie ber nie ber nie ber nie ber nie ber ni...</td>\n",
       "    </tr>\n",
       "    <tr>\n",
       "      <th>12756</th>\n",
       "      <td>ber nie ber nie ber nie ber nie ber nie ber ni...</td>\n",
       "      <td>circlejerk</td>\n",
       "      <td>humor</td>\n",
       "      <td>ber nie ber nie ber nie ber nie ber nie ber ni...</td>\n",
       "      <td>ber nie ber nie ber nie ber nie ber nie ber ni...</td>\n",
       "    </tr>\n",
       "    <tr>\n",
       "      <th>16849</th>\n",
       "      <td>ber nie ber nie ber nie ber nie ber nie ber ni...</td>\n",
       "      <td>circlejerk</td>\n",
       "      <td>humor</td>\n",
       "      <td>ber nie ber nie ber nie ber nie ber nie ber ni...</td>\n",
       "      <td>ber nie ber nie ber nie ber nie ber nie ber ni...</td>\n",
       "    </tr>\n",
       "    <tr>\n",
       "      <th>23300</th>\n",
       "      <td>ber nie ber nie ber nie ber nie ber nie ber ni...</td>\n",
       "      <td>circlejerk</td>\n",
       "      <td>humor</td>\n",
       "      <td>ber nie ber nie ber nie ber nie ber nie ber ni...</td>\n",
       "      <td>ber nie ber nie ber nie ber nie ber nie ber ni...</td>\n",
       "    </tr>\n",
       "    <tr>\n",
       "      <th>27125</th>\n",
       "      <td>ber nie ber nie ber nie ber nie ber nie ber ni...</td>\n",
       "      <td>circlejerk</td>\n",
       "      <td>humor</td>\n",
       "      <td>ber nie ber nie ber nie ber nie ber nie ber ni...</td>\n",
       "      <td>ber nie ber nie ber nie ber nie ber nie ber ni...</td>\n",
       "    </tr>\n",
       "  </tbody>\n",
       "</table>\n",
       "</div>"
      ],
      "text/plain": [
       "                                                    text   subreddit   meta  \\\n",
       "11266  ber nie ber nie ber nie ber nie ber nie ber ni...  circlejerk  humor   \n",
       "12756  ber nie ber nie ber nie ber nie ber nie ber ni...  circlejerk  humor   \n",
       "16849  ber nie ber nie ber nie ber nie ber nie ber ni...  circlejerk  humor   \n",
       "23300  ber nie ber nie ber nie ber nie ber nie ber ni...  circlejerk  humor   \n",
       "27125  ber nie ber nie ber nie ber nie ber nie ber ni...  circlejerk  humor   \n",
       "\n",
       "                                            cleaned_text  \\\n",
       "11266  ber nie ber nie ber nie ber nie ber nie ber ni...   \n",
       "12756  ber nie ber nie ber nie ber nie ber nie ber ni...   \n",
       "16849  ber nie ber nie ber nie ber nie ber nie ber ni...   \n",
       "23300  ber nie ber nie ber nie ber nie ber nie ber ni...   \n",
       "27125  ber nie ber nie ber nie ber nie ber nie ber ni...   \n",
       "\n",
       "                                  text_without_stopwords  \n",
       "11266  ber nie ber nie ber nie ber nie ber nie ber ni...  \n",
       "12756  ber nie ber nie ber nie ber nie ber nie ber ni...  \n",
       "16849  ber nie ber nie ber nie ber nie ber nie ber ni...  \n",
       "23300  ber nie ber nie ber nie ber nie ber nie ber ni...  \n",
       "27125  ber nie ber nie ber nie ber nie ber nie ber ni...  "
      ]
     },
     "execution_count": 129,
     "metadata": {},
     "output_type": "execute_result"
    }
   ],
   "source": [
    "data.iloc[ber_nie_idx[:5]]"
   ]
  },
  {
   "cell_type": "code",
   "execution_count": 130,
   "metadata": {},
   "outputs": [
    {
     "data": {
      "text/html": [
       "<div>\n",
       "<style scoped>\n",
       "    .dataframe tbody tr th:only-of-type {\n",
       "        vertical-align: middle;\n",
       "    }\n",
       "\n",
       "    .dataframe tbody tr th {\n",
       "        vertical-align: top;\n",
       "    }\n",
       "\n",
       "    .dataframe thead th {\n",
       "        text-align: right;\n",
       "    }\n",
       "</style>\n",
       "<table border=\"1\" class=\"dataframe\">\n",
       "  <thead>\n",
       "    <tr style=\"text-align: right;\">\n",
       "      <th></th>\n",
       "      <th>text</th>\n",
       "      <th>subreddit</th>\n",
       "      <th>meta</th>\n",
       "      <th>cleaned_text</th>\n",
       "      <th>text_without_stopwords</th>\n",
       "    </tr>\n",
       "  </thead>\n",
       "  <tbody>\n",
       "    <tr>\n",
       "      <th>25048</th>\n",
       "      <td>* * pablo pablo pablo pablo pablo pablo pablo ...</td>\n",
       "      <td>circlejerk</td>\n",
       "      <td>humor</td>\n",
       "      <td>pablo pablo pablo pablo pablo pablo pablo pa...</td>\n",
       "      <td>pablo pablo pablo pablo pablo pablo pablo pabl...</td>\n",
       "    </tr>\n",
       "    <tr>\n",
       "      <th>35495</th>\n",
       "      <td>* * pablo pablo pablo pablo pablo pablo pablo ...</td>\n",
       "      <td>circlejerk</td>\n",
       "      <td>humor</td>\n",
       "      <td>pablo pablo pablo pablo pablo pablo pablo pa...</td>\n",
       "      <td>pablo pablo pablo pablo pablo pablo pablo pabl...</td>\n",
       "    </tr>\n",
       "    <tr>\n",
       "      <th>49511</th>\n",
       "      <td>* * pablo pablo pablo pablo pablo pablo pablo ...</td>\n",
       "      <td>circlejerk</td>\n",
       "      <td>humor</td>\n",
       "      <td>pablo pablo pablo pablo pablo pablo pablo pa...</td>\n",
       "      <td>pablo pablo pablo pablo pablo pablo pablo pabl...</td>\n",
       "    </tr>\n",
       "    <tr>\n",
       "      <th>85656</th>\n",
       "      <td>* * pablo pablo pablo pablo pablo pablo pablo ...</td>\n",
       "      <td>circlejerk</td>\n",
       "      <td>humor</td>\n",
       "      <td>pablo pablo pablo pablo pablo pablo pablo pa...</td>\n",
       "      <td>pablo pablo pablo pablo pablo pablo pablo pabl...</td>\n",
       "    </tr>\n",
       "    <tr>\n",
       "      <th>89235</th>\n",
       "      <td>* * pablo pablo pablo pablo pablo pablo pablo ...</td>\n",
       "      <td>circlejerk</td>\n",
       "      <td>humor</td>\n",
       "      <td>pablo pablo pablo pablo pablo pablo pablo pa...</td>\n",
       "      <td>pablo pablo pablo pablo pablo pablo pablo pabl...</td>\n",
       "    </tr>\n",
       "  </tbody>\n",
       "</table>\n",
       "</div>"
      ],
      "text/plain": [
       "                                                    text   subreddit   meta  \\\n",
       "25048  * * pablo pablo pablo pablo pablo pablo pablo ...  circlejerk  humor   \n",
       "35495  * * pablo pablo pablo pablo pablo pablo pablo ...  circlejerk  humor   \n",
       "49511  * * pablo pablo pablo pablo pablo pablo pablo ...  circlejerk  humor   \n",
       "85656  * * pablo pablo pablo pablo pablo pablo pablo ...  circlejerk  humor   \n",
       "89235  * * pablo pablo pablo pablo pablo pablo pablo ...  circlejerk  humor   \n",
       "\n",
       "                                            cleaned_text  \\\n",
       "25048    pablo pablo pablo pablo pablo pablo pablo pa...   \n",
       "35495    pablo pablo pablo pablo pablo pablo pablo pa...   \n",
       "49511    pablo pablo pablo pablo pablo pablo pablo pa...   \n",
       "85656    pablo pablo pablo pablo pablo pablo pablo pa...   \n",
       "89235    pablo pablo pablo pablo pablo pablo pablo pa...   \n",
       "\n",
       "                                  text_without_stopwords  \n",
       "25048  pablo pablo pablo pablo pablo pablo pablo pabl...  \n",
       "35495  pablo pablo pablo pablo pablo pablo pablo pabl...  \n",
       "49511  pablo pablo pablo pablo pablo pablo pablo pabl...  \n",
       "85656  pablo pablo pablo pablo pablo pablo pablo pabl...  \n",
       "89235  pablo pablo pablo pablo pablo pablo pablo pabl...  "
      ]
     },
     "execution_count": 130,
     "metadata": {},
     "output_type": "execute_result"
    }
   ],
   "source": [
    "data.iloc[pablo_idx[:5]]"
   ]
  },
  {
   "cell_type": "markdown",
   "metadata": {},
   "source": [
    "We can see that these sentences don't mean anything so we can remove them."
   ]
  },
  {
   "cell_type": "code",
   "execution_count": 131,
   "metadata": {},
   "outputs": [],
   "source": [
    "data = data.drop(all_idx)\n",
    "data.reset_index(drop=True,inplace=True)"
   ]
  },
  {
   "cell_type": "code",
   "execution_count": 132,
   "metadata": {},
   "outputs": [
    {
     "data": {
      "image/png": "[encoded data removed]",
      "text/plain": [
       "<Figure size 1500x750 with 1 Axes>"
      ]
     },
     "metadata": {},
     "output_type": "display_data"
    }
   ],
   "source": [
    "plot_top_n(data,\"text_without_stopwords\",10,2)"
   ]
  },
  {
   "cell_type": "code",
   "execution_count": 133,
   "metadata": {},
   "outputs": [
    {
     "data": {
      "image/png": "[encoded data removed]",
      "text/plain": [
       "<Figure size 1500x750 with 1 Axes>"
      ]
     },
     "metadata": {},
     "output_type": "display_data"
    }
   ],
   "source": [
    "plot_top_n(data,\"text_without_stopwords\",10,3)"
   ]
  },
  {
   "cell_type": "markdown",
   "metadata": {},
   "source": [
    "Data still is not very clean."
   ]
  },
  {
   "cell_type": "markdown",
   "id": "a0462630-9c82-454a-92b1-71ac06b6de24",
   "metadata": {},
   "source": [
    "<a name=\"2-4\"></a>\n",
    "### 2.4 - TF(Term Frequency) - IDF(Inverse Document Frequency) (15 points)\n",
    "\n",
    "- Explain TF & IDF \n",
    "- Apply TF & IDF methods\n"
   ]
  },
  {
   "cell_type": "markdown",
   "metadata": {},
   "source": [
    "Term Frequency is basically how much a certain word appears in a document with respect to total count of words."
   ]
  },
  {
   "cell_type": "code",
   "execution_count": null,
   "metadata": {},
   "outputs": [],
   "source": []
  },
  {
   "cell_type": "markdown",
   "metadata": {},
   "source": [
    "Inverse Document Frequency is showing us how rare or unique a word is in the document"
   ]
  },
  {
   "cell_type": "code",
   "execution_count": 134,
   "metadata": {},
   "outputs": [],
   "source": [
    "from sklearn.feature_extraction.text import TfidfVectorizer\n",
    "tfidf = TfidfVectorizer()\n",
    "result = tfidf.fit_transform(data.text_without_stopwords)"
   ]
  },
  {
   "cell_type": "code",
   "execution_count": 138,
   "metadata": {},
   "outputs": [],
   "source": [
    "k = 0\n",
    "\n",
    "feat_names = tfidf.get_feature_names_out()\n",
    "\n",
    "idf_df = pd.DataFrame([feat_names,tfidf.idf_]).T\n",
    "idf_df.columns = [\"Words\",\"IDF\"]"
   ]
  },
  {
   "cell_type": "code",
   "execution_count": 139,
   "metadata": {},
   "outputs": [
    {
     "data": {
      "text/html": [
       "<div>\n",
       "<style scoped>\n",
       "    .dataframe tbody tr th:only-of-type {\n",
       "        vertical-align: middle;\n",
       "    }\n",
       "\n",
       "    .dataframe tbody tr th {\n",
       "        vertical-align: top;\n",
       "    }\n",
       "\n",
       "    .dataframe thead th {\n",
       "        text-align: right;\n",
       "    }\n",
       "</style>\n",
       "<table border=\"1\" class=\"dataframe\">\n",
       "  <thead>\n",
       "    <tr style=\"text-align: right;\">\n",
       "      <th></th>\n",
       "      <th>Words</th>\n",
       "      <th>IDF</th>\n",
       "    </tr>\n",
       "  </thead>\n",
       "  <tbody>\n",
       "    <tr>\n",
       "      <th>21706</th>\n",
       "      <td>ooooooohhhhh</td>\n",
       "      <td>12.65873</td>\n",
       "    </tr>\n",
       "    <tr>\n",
       "      <th>9829</th>\n",
       "      <td>doublelifts</td>\n",
       "      <td>12.65873</td>\n",
       "    </tr>\n",
       "    <tr>\n",
       "      <th>11823</th>\n",
       "      <td>fakers</td>\n",
       "      <td>12.65873</td>\n",
       "    </tr>\n",
       "    <tr>\n",
       "      <th>4177</th>\n",
       "      <td>belive</td>\n",
       "      <td>12.65873</td>\n",
       "    </tr>\n",
       "    <tr>\n",
       "      <th>20734</th>\n",
       "      <td>nerfssuper</td>\n",
       "      <td>12.65873</td>\n",
       "    </tr>\n",
       "    <tr>\n",
       "      <th>...</th>\n",
       "      <td>...</td>\n",
       "      <td>...</td>\n",
       "    </tr>\n",
       "    <tr>\n",
       "      <th>13500</th>\n",
       "      <td>get</td>\n",
       "      <td>3.603758</td>\n",
       "    </tr>\n",
       "    <tr>\n",
       "      <th>21640</th>\n",
       "      <td>one</td>\n",
       "      <td>3.573046</td>\n",
       "    </tr>\n",
       "    <tr>\n",
       "      <th>34175</th>\n",
       "      <td>would</td>\n",
       "      <td>3.523868</td>\n",
       "    </tr>\n",
       "    <tr>\n",
       "      <th>18127</th>\n",
       "      <td>like</td>\n",
       "      <td>3.197942</td>\n",
       "    </tr>\n",
       "    <tr>\n",
       "      <th>21254</th>\n",
       "      <td>nt</td>\n",
       "      <td>2.78986</td>\n",
       "    </tr>\n",
       "  </tbody>\n",
       "</table>\n",
       "<p>34929 rows × 2 columns</p>\n",
       "</div>"
      ],
      "text/plain": [
       "              Words       IDF\n",
       "21706  ooooooohhhhh  12.65873\n",
       "9829    doublelifts  12.65873\n",
       "11823        fakers  12.65873\n",
       "4177         belive  12.65873\n",
       "20734    nerfssuper  12.65873\n",
       "...             ...       ...\n",
       "13500           get  3.603758\n",
       "21640           one  3.573046\n",
       "34175         would  3.523868\n",
       "18127          like  3.197942\n",
       "21254            nt   2.78986\n",
       "\n",
       "[34929 rows x 2 columns]"
      ]
     },
     "execution_count": 139,
     "metadata": {},
     "output_type": "execute_result"
    }
   ],
   "source": [
    "idf_df.sort_values(\"IDF\",ascending=False)"
   ]
  },
  {
   "cell_type": "markdown",
   "id": "c7fbeaed-e27d-41e0-9c10-885404e1439a",
   "metadata": {
    "execution": {
     "iopub.execute_input": "2023-10-19T12:29:46.119085Z",
     "iopub.status.busy": "2023-10-19T12:29:46.118689Z",
     "iopub.status.idle": "2023-10-19T12:29:46.123579Z",
     "shell.execute_reply": "2023-10-19T12:29:46.122745Z",
     "shell.execute_reply.started": "2023-10-19T12:29:46.119061Z"
    },
    "tags": []
   },
   "source": [
    "<a name=\"2-5\"></a>\n",
    "### 2.5 - Train/Test Split (5)\n",
    "\n",
    "- Target preparation\n",
    "- Split the data\n"
   ]
  },
  {
   "cell_type": "markdown",
   "id": "fb70fef3-8772-41ae-84b5-280917775717",
   "metadata": {
    "execution": {
     "iopub.execute_input": "2023-10-19T12:33:48.736196Z",
     "iopub.status.busy": "2023-10-19T12:33:48.735798Z",
     "iopub.status.idle": "2023-10-19T12:33:48.739728Z",
     "shell.execute_reply": "2023-10-19T12:33:48.739073Z",
     "shell.execute_reply.started": "2023-10-19T12:33:48.736172Z"
    },
    "tags": []
   },
   "source": [
    "<a name=\"3\"></a>\n",
    "## 3 - Training Deep Learning Models (30 points)\n",
    "\n",
    "\n",
    "- Import relevant libraries\n",
    "- Please explain difference between NN and CNN."
   ]
  },
  {
   "cell_type": "code",
   "execution_count": 31,
   "id": "772bf5ad-dd35-4f72-a649-e7d750995947",
   "metadata": {},
   "outputs": [],
   "source": [
    "from keras.models import Sequential\n",
    "from keras.layers import Conv1D, GlobalMaxPooling1D, Flatten\n",
    "from keras.layers import Dense, Input, Embedding, Dropout, Activation"
   ]
  },
  {
   "cell_type": "markdown",
   "id": "6a48a000-8dab-41fe-a9d9-66ad02d4bece",
   "metadata": {
    "execution": {
     "iopub.execute_input": "2023-10-19T12:43:20.924140Z",
     "iopub.status.busy": "2023-10-19T12:43:20.923760Z",
     "iopub.status.idle": "2023-10-19T12:43:20.928017Z",
     "shell.execute_reply": "2023-10-19T12:43:20.927391Z",
     "shell.execute_reply.started": "2023-10-19T12:43:20.924117Z"
    },
    "tags": []
   },
   "source": [
    "<a name=\"3.1\"></a>\n",
    "## 3.1 - Training NN models\n",
    "\n",
    "\n",
    "- Construct NN models from basic one (exp. with one layer) to complex (more layer included).\n",
    "- Use different optimizers, regularization methods, drop-out, normalization etc.\n",
    "- Evaluate in test data for different trials"
   ]
  },
  {
   "cell_type": "markdown",
   "id": "aa9dcd61-8c7d-466e-b3c9-ff7b9f7c0aa3",
   "metadata": {
    "execution": {
     "iopub.execute_input": "2023-10-19T12:46:14.089342Z",
     "iopub.status.busy": "2023-10-19T12:46:14.088863Z",
     "iopub.status.idle": "2023-10-19T12:46:14.093714Z",
     "shell.execute_reply": "2023-10-19T12:46:14.093003Z",
     "shell.execute_reply.started": "2023-10-19T12:46:14.089307Z"
    },
    "tags": []
   },
   "source": [
    "<a name=\"4\"></a>\n",
    "## 4 - Testing with your Own Input (5 points)\n",
    "\n",
    "\n",
    "- Finally you will test with your own input."
   ]
  },
  {
   "cell_type": "code",
   "execution_count": null,
   "id": "ae25d38d-a993-4c10-a5a7-1159f1d302b7",
   "metadata": {
    "tags": []
   },
   "outputs": [],
   "source": [
    "# try a positive sentence\n",
    "sentence = \"\" # write a sentence for each class\n",
    "tmp_pred, tmp_sentiment = predict(sentence)\n",
    "print(f\"The sentiment of the sentence \\n***\\n\\\"{sentence}\\\"\\n***\\nis {tmp_sentiment}.\")"
   ]
  },
  {
   "cell_type": "markdown",
   "id": "4eabbdd6-4ada-4907-b9fa-82f9f0e17c6c",
   "metadata": {
    "execution": {
     "iopub.execute_input": "2023-10-19T13:20:01.327122Z",
     "iopub.status.busy": "2023-10-19T13:20:01.326573Z",
     "iopub.status.idle": "2023-10-19T13:20:01.331371Z",
     "shell.execute_reply": "2023-10-19T13:20:01.330680Z",
     "shell.execute_reply.started": "2023-10-19T13:20:01.327097Z"
    },
    "tags": []
   },
   "source": [
    "<a name=\"5\"></a>\n",
    "## 5 - BONUS - Training CNN Models (20 points)\n",
    "\n",
    "- Construct CNN models from basic one (exp. with one layer) to complex (more layer included).\n",
    "- Use different optimizers, regularization methods, drop-out, normalization etc.\n",
    "- Evaluate in test data for different trials"
   ]
  }
 ],
 "metadata": {
  "kernelspec": {
   "display_name": "base",
   "language": "python",
   "name": "python3"
  },
  "language_info": {
   "codemirror_mode": {
    "name": "ipython",
    "version": 3
   },
   "file_extension": ".py",
   "mimetype": "text/x-python",
   "name": "python",
   "nbconvert_exporter": "python",
   "pygments_lexer": "ipython3",
   "version": "3.10.12"
  }
 },
 "nbformat": 4,
 "nbformat_minor": 5
}
